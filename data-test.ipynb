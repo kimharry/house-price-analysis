{
 "cells": [
  {
   "cell_type": "code",
   "execution_count": 5,
   "id": "abefae33",
   "metadata": {},
   "outputs": [
    {
     "name": "stdout",
     "output_type": "stream",
     "text": [
      "      시도  시군구    전용면적       공시가격        공시가격_㎡\n",
      "0  서울특별시  종로구  187.49  900000000  4.800256e+06\n",
      "1  서울특별시  종로구  187.49  900000000  4.800256e+06\n",
      "2  서울특별시  종로구  157.25  835000000  5.310016e+06\n",
      "3  서울특별시  종로구  157.25  835000000  5.310016e+06\n",
      "4  서울특별시  종로구  152.33  816000000  5.356791e+06\n",
      "시도         object\n",
      "시군구        object\n",
      "전용면적      float64\n",
      "공시가격        int64\n",
      "공시가격_㎡    float64\n",
      "dtype: object\n"
     ]
    }
   ],
   "source": [
    "import pandas as pd\n",
    "\n",
    "data = pd.read_csv(\"data/data-processed-total.csv\")\n",
    "print(data.head())\n",
    "print(data.dtypes)"
   ]
  }
 ],
 "metadata": {
  "kernelspec": {
   "display_name": "Python 3",
   "language": "python",
   "name": "python3"
  },
  "language_info": {
   "codemirror_mode": {
    "name": "ipython",
    "version": 3
   },
   "file_extension": ".py",
   "mimetype": "text/x-python",
   "name": "python",
   "nbconvert_exporter": "python",
   "pygments_lexer": "ipython3",
   "version": "3.11.9"
  }
 },
 "nbformat": 4,
 "nbformat_minor": 5
}
